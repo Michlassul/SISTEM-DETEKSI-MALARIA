{
  "nbformat": 4,
  "nbformat_minor": 0,
  "metadata": {
    "kernelspec": {
      "display_name": "Python 3",
      "language": "python",
      "name": "python3"
    },
    "language_info": {
      "codemirror_mode": {
        "name": "ipython",
        "version": 3
      },
      "file_extension": ".py",
      "mimetype": "text/x-python",
      "name": "python",
      "nbconvert_exporter": "python",
      "pygments_lexer": "ipython3",
      "version": "3.8.3"
    },
    "colab": {
      "provenance": []
    }
  },
  "cells": [
    {
      "cell_type": "code",
      "metadata": {
        "id": "bkzsT0VuVVVU"
      },
      "source": [
        "import pandas as pd"
      ],
      "execution_count": null,
      "outputs": []
    },
    {
      "cell_type": "code",
      "metadata": {
        "id": "e6wMP0CqVVVa",
        "outputId": "aa337cfe-dc76-470c-a33e-3280e23fda7e"
      },
      "source": [
        "!dir"
      ],
      "execution_count": null,
      "outputs": [
        {
          "output_type": "stream",
          "text": [
            " Volume in drive C is OS\n",
            " Volume Serial Number is 82E5-B775\n",
            "\n",
            " Directory of C:\\Users\\Asus\n",
            "\n",
            "06/29/2020  09:30 PM    <DIR>          .\n",
            "06/29/2020  09:30 PM    <DIR>          ..\n",
            "09/27/2019  09:03 PM    <DIR>          .android\n",
            "06/09/2020  03:01 PM    <DIR>          .idlerc\n",
            "06/29/2020  07:19 PM    <DIR>          .ipynb_checkpoints\n",
            "06/15/2020  05:33 PM    <DIR>          .ipython\n",
            "06/15/2020  05:56 PM    <DIR>          .jupyter\n",
            "06/28/2020  06:03 PM    <DIR>          .keras\n",
            "11/20/2018  12:13 PM    <DIR>          .LINE\n",
            "06/28/2020  04:30 PM    <DIR>          .matplotlib\n",
            "02/09/2019  04:03 PM    <DIR>          .Origin\n",
            "11/20/2018  12:13 PM    <DIR>          .QtWebEngineProcess\n",
            "06/11/2020  12:29 PM    <DIR>          3D Objects\n",
            "06/25/2020  07:01 PM             9,370 Coba 1.ipynb\n",
            "06/29/2020  09:30 PM            27,965 Coba Malaria.ipynb\n",
            "06/11/2020  12:29 PM    <DIR>          Contacts\n",
            "10/14/2018  06:23 PM    <DIR>          Creative Cloud Files\n",
            "09/27/2019  09:03 PM               298 d4ac4633ebd6440fa397b84f1bc94a3c.7z\n",
            "06/11/2020  12:29 PM    <DIR>          Desktop\n",
            "06/22/2020  03:49 PM         3,192,560 diamonds.csv\n",
            "06/11/2020  12:29 PM    <DIR>          Documents\n",
            "06/29/2020  07:39 PM    <DIR>          Downloads\n",
            "06/11/2020  12:29 PM    <DIR>          Favorites\n",
            "09/19/2019  04:59 PM                66 inittk.ini\n",
            "09/19/2019  04:58 PM                41 inst.ini\n",
            "06/11/2020  12:29 PM    <DIR>          Links\n",
            "06/11/2020  12:29 PM    <DIR>          Music\n",
            "06/25/2020  06:52 PM            24,065 names1881.csv\n",
            "06/25/2020  06:52 PM           251,638 names1981.csv\n",
            "09/19/2019  04:58 PM    <DIR>          Nox_share\n",
            "09/19/2019  04:58 PM                45 nuuid.ini\n",
            "06/28/2020  05:10 PM    <DIR>          OneDrive\n",
            "06/25/2020  09:32 PM    <DIR>          Pictures\n",
            "06/11/2020  12:29 PM    <DIR>          Saved Games\n",
            "06/11/2020  12:29 PM    <DIR>          Searches\n",
            "06/29/2020  12:37 PM            56,555 soal3.png\n",
            "08/10/2018  03:05 AM                 0 Sti_Trace.log\n",
            "06/22/2020  03:36 AM        47,725,067 test.csv\n",
            "06/22/2020  03:38 AM       190,780,768 train.csv\n",
            "06/15/2020  09:16 PM             5,299 Tugas Hari 1 .ipynb\n",
            "06/27/2020  01:08 PM            20,885 Tugas Hari 1 Pekan 2.ipynb\n",
            "06/29/2020  12:38 PM           196,734 Tugas Hari 1 Pekan 3.ipynb\n",
            "06/27/2020  12:40 PM            18,125 Tugas Hari 2 Pekan 2.ipynb\n",
            "06/29/2020  07:40 PM            50,811 Tugas Hari 2 Pekan 3.ipynb\n",
            "06/16/2020  05:34 PM             7,918 Tugas Hari 2.ipynb\n",
            "06/27/2020  01:02 PM            23,767 Tugas Hari 3 Pekan 2.ipynb\n",
            "06/18/2020  11:40 AM             9,297 Tugas Hari 3.ipynb\n",
            "06/27/2020  12:52 PM            67,405 Tugas Hari 4 Pekan 2.ipynb\n",
            "06/19/2020  07:28 PM            21,831 Tugas Hari 4.ipynb\n",
            "06/26/2020  10:47 PM            15,325 Tugas Hari 5 Pekan 2.ipynb\n",
            "06/20/2020  12:53 AM            22,545 Tugas Hari 5.ipynb\n",
            "06/11/2020  12:29 PM    <DIR>          Videos\n",
            "09/27/2019  09:01 PM    <DIR>          vmlogs\n",
            "              25 File(s)    242,528,380 bytes\n",
            "              28 Dir(s)  74,427,015,168 bytes free\n"
          ],
          "name": "stdout"
        }
      ]
    },
    {
      "cell_type": "code",
      "metadata": {
        "id": "7sBDVVvTVVVb"
      },
      "source": [
        "train = pd.read_csv('train.csv')\n",
        "test = pd.read_csv('test.csv')\n",
        "#membaca file test dan train"
      ],
      "execution_count": null,
      "outputs": []
    },
    {
      "cell_type": "code",
      "metadata": {
        "id": "g2vFO82zVVVc"
      },
      "source": [
        "X_train  = train.drop(['label'],axis=1).values\n",
        "y_train  = train['label'].values\n",
        "\n",
        "X_test  = test.drop(['label'],axis=1).values\n",
        "y_test  = test['label'].values\n",
        "#axis=1 berarti menghapus sepanjang kolom yang dimaksud"
      ],
      "execution_count": null,
      "outputs": []
    },
    {
      "cell_type": "code",
      "metadata": {
        "id": "lQ1Ty63sVVVc",
        "outputId": "bc667f7b-3af3-490a-9d67-4808c55355f3"
      },
      "source": [
        "X_test.shape, y_test.shape\n",
        "#mengecek panjang array dari dimensi X test dan Y test"
      ],
      "execution_count": null,
      "outputs": [
        {
          "output_type": "execute_result",
          "data": {
            "text/plain": [
              "((5512, 2500), (5512,))"
            ]
          },
          "metadata": {
            "tags": []
          },
          "execution_count": 8
        }
      ]
    },
    {
      "cell_type": "code",
      "metadata": {
        "id": "zlxfSQ3fVVVd",
        "outputId": "44c4319c-5bb7-44cd-f35b-9218f9952a9d"
      },
      "source": [
        "X_train.shape, y_train.shape\n",
        "#mengecek panjang array dari dimensi X train dan Y train"
      ],
      "execution_count": null,
      "outputs": [
        {
          "output_type": "execute_result",
          "data": {
            "text/plain": [
              "((22046, 2500), (22046,))"
            ]
          },
          "metadata": {
            "tags": []
          },
          "execution_count": 9
        }
      ]
    },
    {
      "cell_type": "code",
      "metadata": {
        "id": "8ft-NvIsVVVe",
        "outputId": "1e56727b-2639-4e6b-fa00-d72025c6c74a"
      },
      "source": [
        "import matplotlib.pyplot as plt\n",
        "#library Python 2D yang dapat menghasilkan plot dengan kualitas tinggi\n",
        "index = 1500\n",
        "#menentukan indeks keberapa yang akan ditampilkan\n",
        "plt.imshow(X_train[index].reshape(50,50),cmap='gray')\n",
        "#mengubah dimensinya menjadi 50x50 dengan membuat warnanya menjadi abu abu\n",
        "print(y_train[index])\n",
        "#menampilkan index ke 1500 dengan dimensi menjadi 50x50 "
      ],
      "execution_count": null,
      "outputs": [
        {
          "output_type": "stream",
          "text": [
            "Parasitized\n"
          ],
          "name": "stdout"
        },
        {
          "output_type": "display_data",
          "data": {
            "image/png": "[encoded data removed]",
            "text/plain": [
              "<Figure size 432x288 with 1 Axes>"
            ]
          },
          "metadata": {
            "tags": [],
            "needs_background": "light"
          }
        }
      ]
    },
    {
      "cell_type": "code",
      "metadata": {
        "id": "w_pyE2HqVVVe"
      },
      "source": [
        "X_train = X_train.reshape(train.shape[0],50,50,1).astype('float32')\n",
        "#karena menggunakan 1 chanell dengan dimensi 50x50 \n",
        "#supaya diperlakukan sebagai angka floating point, bukan integer\n",
        "X_train = X_train / 255.0\n",
        "#untuk menormalisasi semua values di s train, karena 255 adalah maksimum value untuk semua grayscale image\n",
        "#saya ingin membuat nilainya diantara 0 dan 1\n",
        "\n",
        "X_test = X_test.reshape(test.shape[0],50,50,1).astype('float32')\n",
        "X_test = X_test / 255.0"
      ],
      "execution_count": null,
      "outputs": []
    },
    {
      "cell_type": "code",
      "metadata": {
        "id": "4u--tZG0VVVf"
      },
      "source": [
        "from sklearn import preprocessing\n",
        "#preprocessing untuk mentransformasikan data mentah menjadi data yang siap dianalisis\n",
        "lb = preprocessing.LabelBinarizer()\n",
        "#untuk memudahkan klasifikasi biner\n",
        "y_train = lb.fit_transform(y_train)\n",
        "y_test = lb.fit_transform(y_test)\n",
        "#membuat yang tadinya string menjadi biner, jika terinfeksi 0 dan jika tidak 1\n",
        "\n",
        "from tensorflow.keras.utils import to_categorical\n",
        "#convert array dari label data menjadi vektor \n",
        "y_train = to_categorical(y_train)\n",
        "y_test = to_categorical(y_test)"
      ],
      "execution_count": null,
      "outputs": []
    },
    {
      "cell_type": "code",
      "metadata": {
        "id": "dxh0ot3pVVVf",
        "outputId": "8dc474ba-2aeb-4bf7-c064-31e1f7408d33"
      },
      "source": [
        "y_train[20000]"
      ],
      "execution_count": null,
      "outputs": [
        {
          "output_type": "execute_result",
          "data": {
            "text/plain": [
              "array([0., 1.], dtype=float32)"
            ]
          },
          "metadata": {
            "tags": []
          },
          "execution_count": 13
        }
      ]
    },
    {
      "cell_type": "code",
      "metadata": {
        "id": "KhOJAPaYVVVf",
        "outputId": "9cd78e1e-8d75-4b23-93a8-bff10ac72098"
      },
      "source": [
        "print(\"x_train shape\", X_train.shape)\n",
        "print(\"y_train shape\", y_train.shape)\n",
        "#sekedar mengecek bentuk dari x_train dan y_train\n",
        "print(\"x_test shape\", X_test.shape)\n",
        "print(\"y_test shape\", y_test.shape)"
      ],
      "execution_count": null,
      "outputs": [
        {
          "output_type": "stream",
          "text": [
            "x_train shape (22046, 50, 50, 1)\n",
            "y_train shape (22046, 2)\n",
            "x_test shape (5512, 50, 50, 1)\n",
            "y_test shape (5512, 2)\n"
          ],
          "name": "stdout"
        }
      ]
    },
    {
      "cell_type": "code",
      "metadata": {
        "id": "RjrmaglEVVVg"
      },
      "source": [
        "import tensorflow as tf\n",
        "from tensorflow import keras\n",
        "from tensorflow.keras.models import Sequential\n",
        "from tensorflow.keras.layers import Dense, Dropout, Activation, Flatten\n",
        "from tensorflow.keras.layers import Conv2D, MaxPooling2D"
      ],
      "execution_count": null,
      "outputs": []
    },
    {
      "cell_type": "code",
      "metadata": {
        "id": "eYrbLM34VVVg",
        "outputId": "f7d2a170-11c5-4247-91b9-a396a4fc1404"
      },
      "source": [
        "model = Sequential()\n",
        "\n",
        "model.add(Conv2D(filters=16,kernel_size=3,padding=\"same\",activation=\"relu\",input_shape=(50,50,1)))\n",
        "#padding 'same' bukan 'valid' karena kita ingin ukuran input sama output sama\n",
        "model.add(MaxPooling2D(pool_size=2))\n",
        "#pool size 2 karena kita ingin mengurangi setengah dimensinya\n",
        "\n",
        "model.add(Conv2D(filters=32,kernel_size=3,padding=\"same\",activation=\"relu\"))\n",
        "#tidak perlu input shape lagi karena tensorflow yang akan menghitungnya\n",
        "#kita tidak meningkatkan karnel size karena lebih baik menggunakan filter kecil tetapi dengan networks yg lebih dalam \n",
        "model.add(MaxPooling2D(pool_size=2))\n",
        "\n",
        "model.add(Conv2D(filters=64,kernel_size=3,padding=\"same\",activation=\"relu\"))\n",
        "model.add(MaxPooling2D(pool_size=2))\n",
        "\n",
        "model.add(Dropout(0.2))\n",
        "#menggunakan dropout untuk mengurangi overfitiing\n",
        "model.add(Flatten())\n",
        "#flatten untuk mengubah volume menjadi hanya 1 dimensi, baris, vector\n",
        "\n",
        "model.add(Dense(200,activation='relu'))\n",
        "#dense layer merupakan fully connected layer\n",
        "model.add(Dropout(0.5))\n",
        "\n",
        "model.add(Dense(2,activation='softmax'))\n",
        "#untuk unit terakhir kita selalu menggunakan softmax\n",
        "\n",
        "model.summary()\n",
        "#forward path untuk membuat prediksi \n",
        "#menggunakan algoritma back propagation untuk menyesuaikan parameter"
      ],
      "execution_count": null,
      "outputs": [
        {
          "output_type": "stream",
          "text": [
            "Model: \"sequential\"\n",
            "_________________________________________________________________\n",
            "Layer (type)                 Output Shape              Param #   \n",
            "=================================================================\n",
            "conv2d (Conv2D)              (None, 50, 50, 16)        160       \n",
            "_________________________________________________________________\n",
            "max_pooling2d (MaxPooling2D) (None, 25, 25, 16)        0         \n",
            "_________________________________________________________________\n",
            "conv2d_1 (Conv2D)            (None, 25, 25, 32)        4640      \n",
            "_________________________________________________________________\n",
            "max_pooling2d_1 (MaxPooling2 (None, 12, 12, 32)        0         \n",
            "_________________________________________________________________\n",
            "conv2d_2 (Conv2D)            (None, 12, 12, 64)        18496     \n",
            "_________________________________________________________________\n",
            "max_pooling2d_2 (MaxPooling2 (None, 6, 6, 64)          0         \n",
            "_________________________________________________________________\n",
            "dropout (Dropout)            (None, 6, 6, 64)          0         \n",
            "_________________________________________________________________\n",
            "flatten (Flatten)            (None, 2304)              0         \n",
            "_________________________________________________________________\n",
            "dense (Dense)                (None, 200)               461000    \n",
            "_________________________________________________________________\n",
            "dropout_1 (Dropout)          (None, 200)               0         \n",
            "_________________________________________________________________\n",
            "dense_1 (Dense)              (None, 2)                 402       \n",
            "=================================================================\n",
            "Total params: 484,698\n",
            "Trainable params: 484,698\n",
            "Non-trainable params: 0\n",
            "_________________________________________________________________\n"
          ],
          "name": "stdout"
        }
      ]
    },
    {
      "cell_type": "code",
      "metadata": {
        "id": "dxF6JkO5VVVg"
      },
      "source": [
        "model.compile(loss=\"categorical_crossentropy\",optimizer='adam',metrics=['accuracy'])\n",
        "#menggunakan algoritma sarcastic gradient descent dengan versi adam "
      ],
      "execution_count": null,
      "outputs": []
    },
    {
      "cell_type": "code",
      "metadata": {
        "id": "FgMZkWQFVVVh",
        "outputId": "145837e4-5441-4729-8ad5-261b42057744"
      },
      "source": [
        "model.fit(X_train,y_train,batch_size=50,epochs=20,verbose=1)"
      ],
      "execution_count": null,
      "outputs": [
        {
          "output_type": "stream",
          "text": [
            "Epoch 1/20\n",
            "441/441 [==============================] - 162s 367ms/step - loss: 0.5336 - accuracy: 0.6966\n",
            "Epoch 2/20\n",
            "441/441 [==============================] - 156s 354ms/step - loss: 0.1880 - accuracy: 0.9350\n",
            "Epoch 3/20\n",
            "441/441 [==============================] - 177s 402ms/step - loss: 0.1628 - accuracy: 0.9434\n",
            "Epoch 4/20\n",
            "441/441 [==============================] - 172s 390ms/step - loss: 0.1510 - accuracy: 0.9458\n",
            "Epoch 5/20\n",
            "441/441 [==============================] - 179s 406ms/step - loss: 0.1408 - accuracy: 0.9501\n",
            "Epoch 6/20\n",
            "441/441 [==============================] - 174s 395ms/step - loss: 0.1308 - accuracy: 0.9533\n",
            "Epoch 7/20\n",
            "441/441 [==============================] - 164s 372ms/step - loss: 0.1253 - accuracy: 0.9538\n",
            "Epoch 8/20\n",
            "441/441 [==============================] - 148s 334ms/step - loss: 0.1189 - accuracy: 0.9574\n",
            "Epoch 9/20\n",
            "441/441 [==============================] - 170s 386ms/step - loss: 0.1137 - accuracy: 0.9585\n",
            "Epoch 10/20\n",
            "441/441 [==============================] - 161s 365ms/step - loss: 0.1054 - accuracy: 0.9612\n",
            "Epoch 11/20\n",
            "441/441 [==============================] - 176s 400ms/step - loss: 0.0963 - accuracy: 0.9641\n",
            "Epoch 12/20\n",
            "441/441 [==============================] - 168s 380ms/step - loss: 0.0926 - accuracy: 0.9658\n",
            "Epoch 13/20\n",
            "441/441 [==============================] - 148s 336ms/step - loss: 0.0856 - accuracy: 0.9689\n",
            "Epoch 14/20\n",
            "441/441 [==============================] - 197s 448ms/step - loss: 0.0779 - accuracy: 0.9707\n",
            "Epoch 15/20\n",
            "441/441 [==============================] - 165s 373ms/step - loss: 0.0720 - accuracy: 0.9740\n",
            "Epoch 16/20\n",
            "441/441 [==============================] - 138s 313ms/step - loss: 0.0653 - accuracy: 0.9759\n",
            "Epoch 17/20\n",
            "441/441 [==============================] - 138s 314ms/step - loss: 0.0640 - accuracy: 0.9763\n",
            "Epoch 18/20\n",
            "441/441 [==============================] - 172s 390ms/step - loss: 0.0584 - accuracy: 0.9783\n",
            "Epoch 19/20\n",
            "441/441 [==============================] - 159s 361ms/step - loss: 0.0468 - accuracy: 0.9833\n",
            "Epoch 20/20\n",
            "441/441 [==============================] - 134s 305ms/step - loss: 0.0467 - accuracy: 0.9833\n"
          ],
          "name": "stdout"
        },
        {
          "output_type": "execute_result",
          "data": {
            "text/plain": [
              "<tensorflow.python.keras.callbacks.History at 0x1f4dc3f0490>"
            ]
          },
          "metadata": {
            "tags": []
          },
          "execution_count": 18
        }
      ]
    },
    {
      "cell_type": "code",
      "metadata": {
        "id": "yYZbIw7eVVVh",
        "outputId": "27f26342-3ce9-46b2-c7d9-c44ce49dc34d"
      },
      "source": [
        "predictions = model.evaluate(X_test,y_test)"
      ],
      "execution_count": null,
      "outputs": [
        {
          "output_type": "stream",
          "text": [
            "173/173 [==============================] - 10s 57ms/step - loss: 0.1874 - accuracy: 0.9550\n"
          ],
          "name": "stdout"
        }
      ]
    },
    {
      "cell_type": "code",
      "metadata": {
        "id": "d_mmRBGoVVVh",
        "outputId": "d9b91a6d-2f71-4eb5-8ed3-78c50ce53e9f"
      },
      "source": [
        "index = 4000\n",
        "import numpy as np\n",
        "plt.imshow(X_test[index].reshape(50,50),cmap='gray')\n",
        "print(\"[Infected . Not Infected]\")\n",
        "print(y_test[index])"
      ],
      "execution_count": null,
      "outputs": [
        {
          "output_type": "stream",
          "text": [
            "[Infected . Not Infected]\n",
            "[0. 1.]\n"
          ],
          "name": "stdout"
        },
        {
          "output_type": "display_data",
          "data": {
            "image/png": "[encoded data removed]",
            "text/plain": [
              "<Figure size 432x288 with 1 Axes>"
            ]
          },
          "metadata": {
            "tags": [],
            "needs_background": "light"
          }
        }
      ]
    }
  ]
}